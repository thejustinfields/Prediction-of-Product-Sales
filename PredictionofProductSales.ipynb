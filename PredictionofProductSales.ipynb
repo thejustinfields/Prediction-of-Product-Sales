{
  "nbformat": 4,
  "nbformat_minor": 0,
  "metadata": {
    "colab": {
      "provenance": [],
      "authorship_tag": "ABX9TyMbvEZQDq3DhZ1Gf8AkNKiE",
      "include_colab_link": true
    },
    "kernelspec": {
      "name": "python3",
      "display_name": "Python 3"
    },
    "language_info": {
      "name": "python"
    }
  },
  "cells": [
    {
      "cell_type": "markdown",
      "metadata": {
        "id": "view-in-github",
        "colab_type": "text"
      },
      "source": [
        "<a href=\"https://colab.research.google.com/github/thejustinfields/Prediction-of-Product-Sales/blob/main/PredictionofProductSales.ipynb\" target=\"_parent\"><img src=\"https://colab.research.google.com/assets/colab-badge.svg\" alt=\"Open In Colab\"/></a>"
      ]
    },
    {
      "cell_type": "markdown",
      "source": [
        "# Prediction of Product Sales\n",
        "\n",
        "Justin Fields\n",
        "\n",
        "##Project Overview\n",
        "\n",
        "##Load and Inspect Data\n",
        "\n",
        "##Clean Data\n",
        "\n",
        "##Exploratory Data Anyalysis\n",
        "\n",
        "##Eplanatory Data Analysis"
      ],
      "metadata": {
        "id": "oZRo7eM7LVxP"
      }
    }
  ]
}